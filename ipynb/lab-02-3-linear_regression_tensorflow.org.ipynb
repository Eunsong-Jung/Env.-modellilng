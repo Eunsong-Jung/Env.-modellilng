{
  "cells": [
    {
      "cell_type": "markdown",
      "metadata": {
        "id": "VEpXQfcf7J8w"
      },
      "source": [
        "# Lab-02-3 linear regression tensorflow.org"
      ]
    },
    {
      "cell_type": "code",
      "execution_count": 5,
      "metadata": {
        "collapsed": true,
        "id": "JDVSyXk_7J8x",
        "outputId": "9f22e33c-6529-4101-93c2-2abe3e109e10",
        "colab": {
          "base_uri": "https://localhost:8080/"
        }
      },
      "outputs": [
        {
          "output_type": "stream",
          "name": "stderr",
          "text": [
            "WARNING:tensorflow:From /usr/local/lib/python3.7/dist-packages/tensorflow/python/compat/v2_compat.py:107: disable_resource_variables (from tensorflow.python.ops.variable_scope) is deprecated and will be removed in a future version.\n",
            "Instructions for updating:\n",
            "non-resource variables are not supported in the long term\n"
          ]
        }
      ],
      "source": [
        "# From https://www.tensorflow.org/get_started/get_started\n",
        "import tensorflow.compat.v1 as tf\n",
        "tf.disable_v2_behavior()"
      ]
    },
    {
      "cell_type": "markdown",
      "metadata": {
        "id": "kQYhoIGt7J8y"
      },
      "source": [
        "## Variable"
      ]
    },
    {
      "cell_type": "code",
      "execution_count": 6,
      "metadata": {
        "collapsed": true,
        "id": "dhYPb7Dq7J8y"
      },
      "outputs": [],
      "source": [
        "# Model parameters\n",
        "W = tf.Variable([.3], tf.float32)\n",
        "b = tf.Variable([-.3], tf.float32)\n",
        "\n",
        "# Model input and output\n",
        "x = tf.placeholder(tf.float32)\n",
        "y = tf.placeholder(tf.float32)"
      ]
    },
    {
      "cell_type": "markdown",
      "metadata": {
        "id": "ZuWv_QTG7J8y"
      },
      "source": [
        "## Our Model"
      ]
    },
    {
      "cell_type": "code",
      "execution_count": null,
      "metadata": {
        "collapsed": true,
        "id": "Z0AzX2YO7J8z"
      },
      "outputs": [],
      "source": [
        "linear_model = x * W + b\n",
        "\n",
        "# cost/loss function\n",
        "loss = tf.reduce_sum(tf.square(linear_model - y))  # sum of the squares"
      ]
    },
    {
      "cell_type": "markdown",
      "metadata": {
        "id": "4iwx4as47J8z"
      },
      "source": [
        "## Minimize"
      ]
    },
    {
      "cell_type": "code",
      "execution_count": null,
      "metadata": {
        "collapsed": true,
        "id": "mV1KasK27J8z"
      },
      "outputs": [],
      "source": [
        "# optimizer\n",
        "optimizer = tf.train.GradientDescentOptimizer(0.01)\n",
        "train = optimizer.minimize(loss)"
      ]
    },
    {
      "cell_type": "markdown",
      "metadata": {
        "id": "UKuqaNB47J8z"
      },
      "source": [
        "## X and Y data"
      ]
    },
    {
      "cell_type": "code",
      "execution_count": null,
      "metadata": {
        "collapsed": true,
        "id": "IcoYMvSK7J8z"
      },
      "outputs": [],
      "source": [
        "# training data\n",
        "x_train = [1, 2, 3, 4]\n",
        "y_train = [0, -1, -2, -3]"
      ]
    },
    {
      "cell_type": "markdown",
      "metadata": {
        "id": "bkbHjIRd7J80"
      },
      "source": [
        "## Fit the line"
      ]
    },
    {
      "cell_type": "code",
      "execution_count": null,
      "metadata": {
        "collapsed": true,
        "id": "WDBQOwhZ7J80"
      },
      "outputs": [],
      "source": [
        "# training loop\n",
        "init = tf.global_variables_initializer()\n",
        "sess = tf.Session()\n",
        "sess.run(init)  # reset values to wrong\n",
        "for i in range(1000):\n",
        "    sess.run(train, {x: x_train, y: y_train})"
      ]
    },
    {
      "cell_type": "markdown",
      "metadata": {
        "id": "VSElmbH07J80"
      },
      "source": [
        "## evaluate training accuracy"
      ]
    },
    {
      "cell_type": "code",
      "execution_count": null,
      "metadata": {
        "id": "G2P5m2OH7J80",
        "outputId": "b969e87f-087f-4a78-df2c-785c34166012"
      },
      "outputs": [
        {
          "name": "stdout",
          "output_type": "stream",
          "text": [
            "W: [-0.9999969] b: [ 0.99999082] loss: 5.69997e-11\n"
          ]
        }
      ],
      "source": [
        "# evaluate training accuracy\n",
        "curr_W, curr_b, curr_loss = sess.run([W, b, loss], {x: x_train, y: y_train})\n",
        "print(\"W: %s b: %s loss: %s\" % (curr_W, curr_b, curr_loss))"
      ]
    }
  ],
  "metadata": {
    "kernelspec": {
      "display_name": "Python 3",
      "language": "python",
      "name": "python3"
    },
    "language_info": {
      "codemirror_mode": {
        "name": "ipython",
        "version": 3
      },
      "file_extension": ".py",
      "mimetype": "text/x-python",
      "name": "python",
      "nbconvert_exporter": "python",
      "pygments_lexer": "ipython3",
      "version": "3.5.2"
    },
    "colab": {
      "provenance": []
    }
  },
  "nbformat": 4,
  "nbformat_minor": 0
}